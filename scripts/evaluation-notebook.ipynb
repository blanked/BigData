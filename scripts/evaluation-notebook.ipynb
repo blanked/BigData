{
 "cells": [
  {
   "cell_type": "markdown",
   "metadata": {},
   "source": [
    "# Big Data Analytics Evaluation"
   ]
  },
  {
   "cell_type": "markdown",
   "metadata": {},
   "source": [
    "HJ: I'll tidy this up later to package into a function to call based on different files..."
   ]
  },
  {
   "cell_type": "code",
   "execution_count": 1,
   "metadata": {},
   "outputs": [],
   "source": [
    "%matplotlib inline\n",
    "import pandas as pd, numpy as np\n",
    "from scipy.sparse import coo_matrix\n",
    "import matplotlib.pyplot as plt, seaborn as sns\n",
    "from sklearn.metrics import confusion_matrix"
   ]
  },
  {
   "cell_type": "markdown",
   "metadata": {},
   "source": [
    "### Reading Data\n",
    "Data files and result files are without headers and index."
   ]
  },
  {
   "cell_type": "code",
   "execution_count": 2,
   "metadata": {},
   "outputs": [],
   "source": [
    "# pred = pd.read_csv(\"../result/first-CommonNeighbours(10).csv\", header=None)\n",
    "\n",
    "# Common Neighbours\n",
    "cn10 = pd.read_csv(\"../result/CommonNeighbours(10).csv\", header=None)\n",
    "cn7 = pd.read_csv(\"../result/CommonNeighbours(7).csv\", header=None)\n",
    "cn5 = pd.read_csv(\"../result/CommonNeighbours(5).csv\", header=None)\n",
    "cn3 = pd.read_csv(\"../result/CommonNeighbours(3).csv\", header=None)\n",
    "cn2 = pd.read_csv(\"../result/CommonNeighbours(2).csv\", header=None)\n",
    "# Adamic Adar\n",
    "aa05 = pd.read_csv(\"../result/AdamicAdar(0.5).csv\", header=None)\n",
    "aa3 = pd.read_csv(\"../result/AdamicAdar(3).csv\", header=None)\n",
    "aa6 = pd.read_csv(\"../result/AdamicAdar(6).csv\", header=None)\n",
    "aa12 = pd.read_csv(\"../result/AdamicAdar(12).csv\", header=None)\n",
    "# Jaccard Similarity\n",
    "jc3 = pd.read_csv(\"../result/JaccardSim(3).csv\", header=None)\n",
    "jc5 = pd.read_csv(\"../result/JaccardSim(5).csv\", header=None)\n",
    "jc7 = pd.read_csv(\"../result/JaccardSim(7).csv\", header=None)\n",
    "# QSF (active only)\n",
    "QFS10 = pd.read_csv(\"../result/QFS(10).csv\", header=None)\n",
    "QFS1 = pd.read_csv(\"../result/QFS(1)_active.csv\", header=None)\n",
    "\n",
    "actual_active = pd.read_csv(\"../result/actual_active.csv\", header=None)\n",
    "actual = pd.read_csv(\"../data/second_nodate.csv\", header=None)\n",
    "# actual.columns = ['Source', 'Target']\n",
    "full = pd.read_csv(\"../data/twitter.csv\")\n",
    "first = pd.read_csv(\"../data/first_nodate.csv\", header=None)\n",
    "# first.columns = ['Source', 'Target']"
   ]
  },
  {
   "cell_type": "markdown",
   "metadata": {},
   "source": [
    "Add any new models below"
   ]
  },
  {
   "cell_type": "code",
   "execution_count": 3,
   "metadata": {},
   "outputs": [],
   "source": [
    "models = [cn2, cn3, cn5, cn7, cn10, aa3, aa6, aa12, jc3, jc5, jc7]\n",
    "model_names = ['CommonNeighbours(2)', 'CommonNeighbours(3)', 'CommonNeighbours(5)', 'CommonNeighbours(7)', 'CommonNeighbours(10)', 'AdamicAdar(3)', 'AdamicAdar(6)', 'AdamicAdar(12)', 'JaccardSim(3)', 'JaccardSim(5)', 'JaccardSim(7)']"
   ]
  },
  {
   "cell_type": "markdown",
   "metadata": {},
   "source": [
    "## Baseline statistics"
   ]
  },
  {
   "cell_type": "code",
   "execution_count": 4,
   "metadata": {
    "scrolled": true
   },
   "outputs": [
    {
     "name": "stdout",
     "output_type": "stream",
     "text": [
      "Number of actual edges formed: 25530\n",
      "Random probability chance of predicting edge: 3.7111374882618704e-06\n"
     ]
    }
   ],
   "source": [
    "# Random probability chance of predicting\n",
    "actual_no = len(actual)\n",
    "print(\"Number of actual edges formed: \" + str(actual_no))\n",
    "num_all_possibilities = len(full['Source'].unique())*(len(full['Source'].unique())-1)\n",
    "rand_prob = len(actual)/num_all_possibilities\n",
    "print(\"Random probability chance of predicting edge: \" + str(rand_prob))"
   ]
  },
  {
   "cell_type": "code",
   "execution_count": 5,
   "metadata": {},
   "outputs": [
    {
     "data": {
      "text/html": [
       "<div>\n",
       "<style scoped>\n",
       "    .dataframe tbody tr th:only-of-type {\n",
       "        vertical-align: middle;\n",
       "    }\n",
       "\n",
       "    .dataframe tbody tr th {\n",
       "        vertical-align: top;\n",
       "    }\n",
       "\n",
       "    .dataframe thead th {\n",
       "        text-align: right;\n",
       "    }\n",
       "</style>\n",
       "<table border=\"1\" class=\"dataframe\">\n",
       "  <thead>\n",
       "    <tr style=\"text-align: right;\">\n",
       "      <th></th>\n",
       "      <th>Source</th>\n",
       "      <th>Target</th>\n",
       "      <th>Timestamp</th>\n",
       "    </tr>\n",
       "  </thead>\n",
       "  <tbody>\n",
       "    <tr>\n",
       "      <th>0</th>\n",
       "      <td>0</td>\n",
       "      <td>11</td>\n",
       "      <td>1</td>\n",
       "    </tr>\n",
       "    <tr>\n",
       "      <th>1</th>\n",
       "      <td>0</td>\n",
       "      <td>4893</td>\n",
       "      <td>1</td>\n",
       "    </tr>\n",
       "    <tr>\n",
       "      <th>2</th>\n",
       "      <td>0</td>\n",
       "      <td>6855</td>\n",
       "      <td>1</td>\n",
       "    </tr>\n",
       "    <tr>\n",
       "      <th>3</th>\n",
       "      <td>0</td>\n",
       "      <td>66284</td>\n",
       "      <td>1</td>\n",
       "    </tr>\n",
       "    <tr>\n",
       "      <th>4</th>\n",
       "      <td>0</td>\n",
       "      <td>99635</td>\n",
       "      <td>1</td>\n",
       "    </tr>\n",
       "  </tbody>\n",
       "</table>\n",
       "</div>"
      ],
      "text/plain": [
       "   Source  Target  Timestamp\n",
       "0       0      11          1\n",
       "1       0    4893          1\n",
       "2       0    6855          1\n",
       "3       0   66284          1\n",
       "4       0   99635          1"
      ]
     },
     "execution_count": 5,
     "metadata": {},
     "output_type": "execute_result"
    }
   ],
   "source": [
    "full.head(5)"
   ]
  },
  {
   "cell_type": "markdown",
   "metadata": {},
   "source": [
    "## CalculatingAccuracy"
   ]
  },
  {
   "cell_type": "markdown",
   "metadata": {},
   "source": [
    "### Cleaning and Formatting data\n",
    "To allow for merging. Prediction file has brackets from graphx/sparkling-graph, actual file doesn't"
   ]
  },
  {
   "cell_type": "code",
   "execution_count": 6,
   "metadata": {},
   "outputs": [],
   "source": [
    "# Cleaning actual\n",
    "for col in actual.columns:\n",
    "    actual[col] = actual[col].apply(str)\n",
    "    \n",
    "actual['edge'] = '(' + actual[0].astype(str) + ',' + actual[1].astype(str) + ')'"
   ]
  },
  {
   "cell_type": "code",
   "execution_count": 7,
   "metadata": {},
   "outputs": [],
   "source": [
    "# # Cleaning prediction\n",
    "# for col in pred.columns:\n",
    "#     pred[col] = pred[col].apply(str)\n",
    "    \n",
    "# pred['edge'] = pred[0].astype(str) + ',' + pred[1].astype(str)\n",
    "# correct = pd.merge(actual, pred, on=['edge'])"
   ]
  },
  {
   "cell_type": "code",
   "execution_count": 8,
   "metadata": {},
   "outputs": [],
   "source": [
    "# P = len(actual)\n",
    "# # Below are all positives. \n",
    "# TP = len(correct)\n",
    "# FN = P - TP  # misclassified positives\n",
    "\n",
    "# N = num_all_possibilities - P\n",
    "# # Below are all negatives\n",
    "# FP = len(pred) - len(correct)\n",
    "# TN = N - FP"
   ]
  },
  {
   "cell_type": "code",
   "execution_count": 9,
   "metadata": {},
   "outputs": [],
   "source": [
    "# recall = TP/P\n",
    "# precision = TP/(TP+FP)\n",
    "# print(\"Recall: \" + str(recall))\n",
    "# print(\"Precision: \" + str(precision))\n",
    "# f1score = (precision*recall)/(precision+recall)\n",
    "# print(\"F1-score: \" + str(f1score))"
   ]
  },
  {
   "cell_type": "code",
   "execution_count": 10,
   "metadata": {},
   "outputs": [],
   "source": [
    "def clean_prediction(pred):\n",
    "    for col in pred.columns:\n",
    "        pred[col] = pred[col].apply(str)\n",
    "        pred['edge'] = pred[0].astype(str) + ',' + pred[1].astype(str)\n",
    "    return\n",
    "\n",
    "def merge_prediction(pred, actual):\n",
    "    \n",
    "    # Cleaning actual\n",
    "    for col in actual.columns:\n",
    "        actual[col] = actual[col].apply(str)\n",
    "\n",
    "    actual['edge'] = '(' + actual[0].astype(str) + ',' + actual[1].astype(str) + ')'\n",
    "    correct = pd.merge(actual, pred, on=['edge'])\n",
    "    return correct"
   ]
  },
  {
   "cell_type": "markdown",
   "metadata": {},
   "source": [
    "### Calculating values for confusion matrix"
   ]
  },
  {
   "cell_type": "code",
   "execution_count": 11,
   "metadata": {},
   "outputs": [],
   "source": [
    "def calculate_counts(actual, pred, correct):\n",
    "    P = len(actual)\n",
    "    # Below are all positives. \n",
    "    TP = len(correct)\n",
    "    FN = P - TP  # misclassified positives\n",
    "\n",
    "    N = num_all_possibilities - P\n",
    "    # Below are all negatives\n",
    "    FP = len(pred) - len(correct)\n",
    "    TN = N - FP\n",
    "    return [TP, FP, TN, FN]\n",
    "\n",
    "def calculate_metrics(counts):\n",
    "    TP, FP, TN, FN = counts\n",
    "    recall = TP / (TP + FN)\n",
    "    precision = TP / (TP + FP)\n",
    "    accuracy = (TP + TN) / (TP + TN + FP + FN)\n",
    "    return (recall, precision, accuracy)"
   ]
  },
  {
   "cell_type": "code",
   "execution_count": 12,
   "metadata": {},
   "outputs": [],
   "source": [
    "def calculate_counts(actual, pred, correct, first=first):\n",
    "    P = len(actual)\n",
    "    # Below are all positives. \n",
    "    TP = len(correct)\n",
    "    FN = P - TP  # misclassified positives\n",
    "\n",
    "    # Calculating number of possible new links\n",
    "    num_source = len(first[0].unique())\n",
    "    num_all_possibilities = (num_source * (num_source-1)) - len(first)\n",
    "    \n",
    "    N = num_all_possibilities - P\n",
    "    # Below are all negatives\n",
    "    FP = len(pred) - len(correct)\n",
    "    TN = N - FP\n",
    "    return [TP, FP, TN, FN]\n",
    "\n",
    "def calculate_metrics(counts):\n",
    "    TP, FP, TN, FN = counts\n",
    "    recall = TP / (TP + FN)\n",
    "    precision = TP / (TP + FP)\n",
    "    accuracy = (TP + TN) / (TP + TN + FP + FN)\n",
    "    return (recall, precision, accuracy)"
   ]
  },
  {
   "cell_type": "code",
   "execution_count": 13,
   "metadata": {},
   "outputs": [],
   "source": [
    "def get_score(sample_pred, actual, first=first):\n",
    "    pred = sample_pred\n",
    "    clean_prediction(pred)\n",
    "    correct = merge_prediction(pred, actual)\n",
    "#     print(\"Total number of predicted edges: \" + str(len(pred)))\n",
    "#     print(\"Number of correct predicted edges: \" + str(len(correct)))\n",
    "#     print(\"Total number of actual edges: \" + str(len(actual)))\n",
    "#     print(\"Recall: \" + str(len(correct)/len(actual)))\n",
    "    counts = calculate_counts(actual, pred, correct, first)\n",
    "    recall, precision, accuracy = calculate_metrics(counts)\n",
    "    return (recall, precision, accuracy)"
   ]
  },
  {
   "cell_type": "code",
   "execution_count": 14,
   "metadata": {},
   "outputs": [
    {
     "data": {
      "text/plain": [
       "(0.033490011750881316, 0.00904063527645311, 0.9999813708619196)"
      ]
     },
     "execution_count": 14,
     "metadata": {},
     "output_type": "execute_result"
    }
   ],
   "source": [
    "get_score(cn5, actual)"
   ]
  },
  {
   "cell_type": "markdown",
   "metadata": {},
   "source": [
    "## Metrics"
   ]
  },
  {
   "cell_type": "code",
   "execution_count": 15,
   "metadata": {},
   "outputs": [],
   "source": [
    "def get_confusion_matrix(sample_pred, actual, model_name, log_scale=False):\n",
    "    pred = sample_pred\n",
    "    clean_prediction(pred)\n",
    "    correct = merge_prediction(pred, actual)\n",
    "#     print(\"Total number of predicted edges: \" + str(len(pred)))\n",
    "#     print(\"Number of correct predicted edges: \" + str(len(correct)))\n",
    "#     print(\"Total number of actual edges: \" + str(len(actual)))\n",
    "#     print(\"Recall: \" + str(len(correct)/len(actual)))\n",
    "    [TP, FP, TN, FN] = calculate_counts(actual, pred, correct, first)\n",
    "    array = [[TP, FP], [TN, FN]]\n",
    "    conf_matrix = pd.DataFrame(array, columns=['True', 'False'], index=['Positive', 'Negative'])\n",
    "    plt.figure()\n",
    "    if log_scale:\n",
    "        from math import log\n",
    "        logged = conf_matrix.applymap(lambda x: log(x, 10))\n",
    "        sns.heatmap(logged, annot=True, cmap=\"Blues\").set_title(\"Confusion matrix (log10 scale) - \" + model_name)\n",
    "    else:\n",
    "        sns.heatmap(conf_matrix, annot=True, cmap=\"Blues\", fmt=\".0f\").set_title(\"Confusion Matrix - \" + model_name)\n",
    "    "
   ]
  },
  {
   "cell_type": "code",
   "execution_count": 16,
   "metadata": {},
   "outputs": [
    {
     "data": {
      "image/png": "[encoded data removed]",
      "text/plain": [
       "<Figure size 432x288 with 2 Axes>"
      ]
     },
     "metadata": {
      "needs_background": "light"
     },
     "output_type": "display_data"
    }
   ],
   "source": [
    "get_confusion_matrix(QFS10, actual_active, 'QSF10')"
   ]
  },
  {
   "cell_type": "markdown",
   "metadata": {},
   "source": [
    "### Iterating to get all model results in a dataframe"
   ]
  },
  {
   "cell_type": "code",
   "execution_count": 17,
   "metadata": {},
   "outputs": [],
   "source": [
    "recall_scores = []\n",
    "precision_scores = []\n",
    "accuracy_scores = []\n",
    "\n",
    "for model in models:\n",
    "    recall, precision, accuracy = get_score(model, actual)\n",
    "    recall_scores.append(recall)\n",
    "    precision_scores.append(precision)\n",
    "    accuracy_scores.append(accuracy)"
   ]
  },
  {
   "cell_type": "code",
   "execution_count": 18,
   "metadata": {
    "scrolled": true
   },
   "outputs": [
    {
     "data": {
      "text/html": [
       "<div>\n",
       "<style scoped>\n",
       "    .dataframe tbody tr th:only-of-type {\n",
       "        vertical-align: middle;\n",
       "    }\n",
       "\n",
       "    .dataframe tbody tr th {\n",
       "        vertical-align: top;\n",
       "    }\n",
       "\n",
       "    .dataframe thead th {\n",
       "        text-align: right;\n",
       "    }\n",
       "</style>\n",
       "<table border=\"1\" class=\"dataframe\">\n",
       "  <thead>\n",
       "    <tr style=\"text-align: right;\">\n",
       "      <th></th>\n",
       "      <th>Precision</th>\n",
       "      <th>Recall</th>\n",
       "      <th>F1 score</th>\n",
       "    </tr>\n",
       "  </thead>\n",
       "  <tbody>\n",
       "    <tr>\n",
       "      <th>CommonNeighbours(2)</th>\n",
       "      <td>0.006311</td>\n",
       "      <td>0.080337</td>\n",
       "      <td>0.011703</td>\n",
       "    </tr>\n",
       "    <tr>\n",
       "      <th>CommonNeighbours(3)</th>\n",
       "      <td>0.007135</td>\n",
       "      <td>0.059734</td>\n",
       "      <td>0.012748</td>\n",
       "    </tr>\n",
       "    <tr>\n",
       "      <th>CommonNeighbours(5)</th>\n",
       "      <td>0.009041</td>\n",
       "      <td>0.033490</td>\n",
       "      <td>0.014238</td>\n",
       "    </tr>\n",
       "    <tr>\n",
       "      <th>CommonNeighbours(7)</th>\n",
       "      <td>0.009396</td>\n",
       "      <td>0.020055</td>\n",
       "      <td>0.012797</td>\n",
       "    </tr>\n",
       "    <tr>\n",
       "      <th>CommonNeighbours(10)</th>\n",
       "      <td>0.008762</td>\n",
       "      <td>0.009871</td>\n",
       "      <td>0.009283</td>\n",
       "    </tr>\n",
       "    <tr>\n",
       "      <th>AdamicAdar(3)</th>\n",
       "      <td>0.003307</td>\n",
       "      <td>0.018919</td>\n",
       "      <td>0.005630</td>\n",
       "    </tr>\n",
       "    <tr>\n",
       "      <th>AdamicAdar(6)</th>\n",
       "      <td>0.001559</td>\n",
       "      <td>0.005680</td>\n",
       "      <td>0.002446</td>\n",
       "    </tr>\n",
       "    <tr>\n",
       "      <th>AdamicAdar(12)</th>\n",
       "      <td>0.001246</td>\n",
       "      <td>0.004074</td>\n",
       "      <td>0.001908</td>\n",
       "    </tr>\n",
       "    <tr>\n",
       "      <th>JaccardSim(3)</th>\n",
       "      <td>0.002728</td>\n",
       "      <td>0.027340</td>\n",
       "      <td>0.004962</td>\n",
       "    </tr>\n",
       "    <tr>\n",
       "      <th>JaccardSim(5)</th>\n",
       "      <td>0.001543</td>\n",
       "      <td>0.004348</td>\n",
       "      <td>0.002277</td>\n",
       "    </tr>\n",
       "    <tr>\n",
       "      <th>JaccardSim(7)</th>\n",
       "      <td>0.000608</td>\n",
       "      <td>0.001371</td>\n",
       "      <td>0.000842</td>\n",
       "    </tr>\n",
       "  </tbody>\n",
       "</table>\n",
       "</div>"
      ],
      "text/plain": [
       "                      Precision    Recall  F1 score\n",
       "CommonNeighbours(2)    0.006311  0.080337  0.011703\n",
       "CommonNeighbours(3)    0.007135  0.059734  0.012748\n",
       "CommonNeighbours(5)    0.009041  0.033490  0.014238\n",
       "CommonNeighbours(7)    0.009396  0.020055  0.012797\n",
       "CommonNeighbours(10)   0.008762  0.009871  0.009283\n",
       "AdamicAdar(3)          0.003307  0.018919  0.005630\n",
       "AdamicAdar(6)          0.001559  0.005680  0.002446\n",
       "AdamicAdar(12)         0.001246  0.004074  0.001908\n",
       "JaccardSim(3)          0.002728  0.027340  0.004962\n",
       "JaccardSim(5)          0.001543  0.004348  0.002277\n",
       "JaccardSim(7)          0.000608  0.001371  0.000842"
      ]
     },
     "execution_count": 18,
     "metadata": {},
     "output_type": "execute_result"
    }
   ],
   "source": [
    "results = pd.DataFrame(index = model_names)\n",
    "results['Precision'] = precision_scores\n",
    "results['Recall'] = recall_scores\n",
    "results['F1 score'] = 2*(results['Precision']*results['Recall'])/(results['Precision']+results['Recall'])\n",
    "# results['Accuracy'] = accuracy_scores\n",
    "results"
   ]
  },
  {
   "cell_type": "markdown",
   "metadata": {},
   "source": [
    "## Plotting Confusion Matrix"
   ]
  },
  {
   "cell_type": "markdown",
   "metadata": {},
   "source": [
    "### Models with full dataset"
   ]
  },
  {
   "cell_type": "code",
   "execution_count": 19,
   "metadata": {
    "scrolled": true
   },
   "outputs": [
    {
     "data": {
      "image/png": "[encoded data removed]",
      "text/plain": [
       "<Figure size 432x288 with 2 Axes>"
      ]
     },
     "metadata": {
      "needs_background": "light"
     },
     "output_type": "display_data"
    },
    {
     "data": {
      "image/png": "[encoded data removed]",
      "text/plain": [
       "<Figure size 432x288 with 2 Axes>"
      ]
     },
     "metadata": {
      "needs_background": "light"
     },
     "output_type": "display_data"
    },
    {
     "data": {
      "image/png": "[encoded data removed]",
      "text/plain": [
       "<Figure size 432x288 with 2 Axes>"
      ]
     },
     "metadata": {
      "needs_background": "light"
     },
     "output_type": "display_data"
    },
    {
     "data": {
      "image/png": "[encoded data removed]",
      "text/plain": [
       "<Figure size 432x288 with 2 Axes>"
      ]
     },
     "metadata": {
      "needs_background": "light"
     },
     "output_type": "display_data"
    },
    {
     "data": {
      "image/png": "[encoded data removed]",
      "text/plain": [
       "<Figure size 432x288 with 2 Axes>"
      ]
     },
     "metadata": {
      "needs_background": "light"
     },
     "output_type": "display_data"
    },
    {
     "data": {
      "image/png": "[encoded data removed]",
      "text/plain": [
       "<Figure size 432x288 with 2 Axes>"
      ]
     },
     "metadata": {
      "needs_background": "light"
     },
     "output_type": "display_data"
    },
    {
     "data": {
      "image/png": "[encoded data removed]",
      "text/plain": [
       "<Figure size 432x288 with 2 Axes>"
      ]
     },
     "metadata": {
      "needs_background": "light"
     },
     "output_type": "display_data"
    },
    {
     "data": {
      "image/png": "[encoded data removed]",
      "text/plain": [
       "<Figure size 432x288 with 2 Axes>"
      ]
     },
     "metadata": {
      "needs_background": "light"
     },
     "output_type": "display_data"
    },
    {
     "data": {
      "image/png": "[encoded data removed]",
      "text/plain": [
       "<Figure size 432x288 with 2 Axes>"
      ]
     },
     "metadata": {
      "needs_background": "light"
     },
     "output_type": "display_data"
    },
    {
     "data": {
      "image/png": "[encoded data removed]",
      "text/plain": [
       "<Figure size 432x288 with 2 Axes>"
      ]
     },
     "metadata": {
      "needs_background": "light"
     },
     "output_type": "display_data"
    },
    {
     "data": {
      "image/png": "[encoded data removed]",
      "text/plain": [
       "<Figure size 432x288 with 2 Axes>"
      ]
     },
     "metadata": {
      "needs_background": "light"
     },
     "output_type": "display_data"
    }
   ],
   "source": [
    "for i, model in enumerate(models):\n",
    "    get_confusion_matrix(model, actual, model_names[i])"
   ]
  },
  {
   "cell_type": "markdown",
   "metadata": {},
   "source": [
    "### Models with only active users"
   ]
  },
  {
   "cell_type": "code",
   "execution_count": 20,
   "metadata": {},
   "outputs": [
    {
     "data": {
      "image/png": "[encoded data removed]",
      "text/plain": [
       "<Figure size 432x288 with 2 Axes>"
      ]
     },
     "metadata": {
      "needs_background": "light"
     },
     "output_type": "display_data"
    }
   ],
   "source": [
    "get_confusion_matrix(QFS1, actual_active, 'QFS(1)')"
   ]
  },
  {
   "cell_type": "markdown",
   "metadata": {},
   "source": [
    "# Deeper Analysis of Results"
   ]
  },
  {
   "cell_type": "markdown",
   "metadata": {},
   "source": [
    "To better understand the results, we compare the predicted links against the actual links."
   ]
  },
  {
   "cell_type": "markdown",
   "metadata": {},
   "source": [
    "# Evaluation of Facebook dataset"
   ]
  },
  {
   "cell_type": "code",
   "execution_count": 41,
   "metadata": {},
   "outputs": [],
   "source": [
    "# Reading full dataset\n",
    "fb_full = pd.read_csv(\"../data/fb_data/fb_big_edges_cleaned_full\", header=None)\n",
    "# Reading sample dataset. Sample is 90% of data for training\n",
    "fb_first = pd.read_csv(\"../data/fb_data/fb_big_edges_cleaned_sample\", header=None)"
   ]
  },
  {
   "cell_type": "code",
   "execution_count": 42,
   "metadata": {},
   "outputs": [],
   "source": [
    "# Getting the testing dataset from facebook\n",
    "# TODO: 1. Outer Join data, then remove the successfully joined\n",
    "# Converting into links\n",
    "fb_full['link'] = fb_full.apply(lambda x: str(x[0]) + \",\" + str(x[1]), axis=1)\n",
    "fb_first['link'] = fb_first.apply(lambda x: str(x[0]) + \",\" + str(x[1]), axis=1)\n",
    "# Outer join\n",
    "fb_join = fb_full.merge(fb_first, how='outer', on='link')\n",
    "# Dropping the rows that are found in the outer join, thus getting actual new links\n",
    "fb_actual = fb_join[pd.isnull(fb_join['0_y'])].copy()\n",
    "fb_actual.drop(['0_y', '1_y'], axis=1, inplace=True)"
   ]
  },
  {
   "cell_type": "code",
   "execution_count": 43,
   "metadata": {},
   "outputs": [
    {
     "data": {
      "text/html": [
       "<div>\n",
       "<style scoped>\n",
       "    .dataframe tbody tr th:only-of-type {\n",
       "        vertical-align: middle;\n",
       "    }\n",
       "\n",
       "    .dataframe tbody tr th {\n",
       "        vertical-align: top;\n",
       "    }\n",
       "\n",
       "    .dataframe thead th {\n",
       "        text-align: right;\n",
       "    }\n",
       "</style>\n",
       "<table border=\"1\" class=\"dataframe\">\n",
       "  <thead>\n",
       "    <tr style=\"text-align: right;\">\n",
       "      <th></th>\n",
       "      <th>0_x</th>\n",
       "      <th>1_x</th>\n",
       "      <th>link</th>\n",
       "    </tr>\n",
       "  </thead>\n",
       "  <tbody>\n",
       "    <tr>\n",
       "      <th>19</th>\n",
       "      <td>1</td>\n",
       "      <td>21</td>\n",
       "      <td>1,21</td>\n",
       "    </tr>\n",
       "    <tr>\n",
       "      <th>24</th>\n",
       "      <td>1</td>\n",
       "      <td>26</td>\n",
       "      <td>1,26</td>\n",
       "    </tr>\n",
       "    <tr>\n",
       "      <th>25</th>\n",
       "      <td>1</td>\n",
       "      <td>27</td>\n",
       "      <td>1,27</td>\n",
       "    </tr>\n",
       "    <tr>\n",
       "      <th>34</th>\n",
       "      <td>38</td>\n",
       "      <td>39</td>\n",
       "      <td>38,39</td>\n",
       "    </tr>\n",
       "    <tr>\n",
       "      <th>37</th>\n",
       "      <td>38</td>\n",
       "      <td>42</td>\n",
       "      <td>38,42</td>\n",
       "    </tr>\n",
       "  </tbody>\n",
       "</table>\n",
       "</div>"
      ],
      "text/plain": [
       "    0_x  1_x   link\n",
       "19    1   21   1,21\n",
       "24    1   26   1,26\n",
       "25    1   27   1,27\n",
       "34   38   39  38,39\n",
       "37   38   42  38,42"
      ]
     },
     "execution_count": 43,
     "metadata": {},
     "output_type": "execute_result"
    }
   ],
   "source": [
    "fb_actual.head(5)"
   ]
  },
  {
   "cell_type": "code",
   "execution_count": 45,
   "metadata": {},
   "outputs": [],
   "source": [
    "fb_actual.columns = [0, 1, 'link']"
   ]
  },
  {
   "cell_type": "markdown",
   "metadata": {},
   "source": [
    "## Reading Facebook models"
   ]
  },
  {
   "cell_type": "code",
   "execution_count": 46,
   "metadata": {
    "scrolled": true
   },
   "outputs": [],
   "source": [
    "# Reading models\n",
    "fb_aa2 = pd.read_csv(\"../result/facebook_results/fb_aa2\", header=None)\n",
    "fb_cn3 = pd.read_csv(\"../result/facebook_results/fb_cn3\", header=None)\n",
    "fb_cn5 = pd.read_csv(\"../result/facebook_results/fb_cn5\", header=None)"
   ]
  },
  {
   "cell_type": "code",
   "execution_count": 47,
   "metadata": {},
   "outputs": [],
   "source": [
    "fb_models = [fb_aa2, fb_cn3, fb_cn5]\n",
    "fb_model_names = ['FB_AdamicAdar(2)', 'FB_CommonNeighbours(3)', 'FB_CommonNeighbours(5)']"
   ]
  },
  {
   "cell_type": "markdown",
   "metadata": {},
   "source": [
    "## Evaluating scores"
   ]
  },
  {
   "cell_type": "code",
   "execution_count": 48,
   "metadata": {},
   "outputs": [
    {
     "data": {
      "text/html": [
       "<div>\n",
       "<style scoped>\n",
       "    .dataframe tbody tr th:only-of-type {\n",
       "        vertical-align: middle;\n",
       "    }\n",
       "\n",
       "    .dataframe tbody tr th {\n",
       "        vertical-align: top;\n",
       "    }\n",
       "\n",
       "    .dataframe thead th {\n",
       "        text-align: right;\n",
       "    }\n",
       "</style>\n",
       "<table border=\"1\" class=\"dataframe\">\n",
       "  <thead>\n",
       "    <tr style=\"text-align: right;\">\n",
       "      <th></th>\n",
       "      <th>0</th>\n",
       "      <th>1</th>\n",
       "      <th>link</th>\n",
       "    </tr>\n",
       "  </thead>\n",
       "  <tbody>\n",
       "    <tr>\n",
       "      <th>19</th>\n",
       "      <td>1</td>\n",
       "      <td>21</td>\n",
       "      <td>1,21</td>\n",
       "    </tr>\n",
       "    <tr>\n",
       "      <th>24</th>\n",
       "      <td>1</td>\n",
       "      <td>26</td>\n",
       "      <td>1,26</td>\n",
       "    </tr>\n",
       "    <tr>\n",
       "      <th>25</th>\n",
       "      <td>1</td>\n",
       "      <td>27</td>\n",
       "      <td>1,27</td>\n",
       "    </tr>\n",
       "    <tr>\n",
       "      <th>34</th>\n",
       "      <td>38</td>\n",
       "      <td>39</td>\n",
       "      <td>38,39</td>\n",
       "    </tr>\n",
       "    <tr>\n",
       "      <th>37</th>\n",
       "      <td>38</td>\n",
       "      <td>42</td>\n",
       "      <td>38,42</td>\n",
       "    </tr>\n",
       "  </tbody>\n",
       "</table>\n",
       "</div>"
      ],
      "text/plain": [
       "     0   1   link\n",
       "19   1  21   1,21\n",
       "24   1  26   1,26\n",
       "25   1  27   1,27\n",
       "34  38  39  38,39\n",
       "37  38  42  38,42"
      ]
     },
     "execution_count": 48,
     "metadata": {},
     "output_type": "execute_result"
    }
   ],
   "source": [
    "fb_actual.head(5)"
   ]
  },
  {
   "cell_type": "code",
   "execution_count": 49,
   "metadata": {},
   "outputs": [],
   "source": [
    "fb_recall_scores = []\n",
    "fb_precision_scores = []\n",
    "fb_accuracy_scores = []\n",
    "\n",
    "for model in fb_models:\n",
    "    recall, precision, accuracy = get_score(model, fb_actual, fb_first)\n",
    "    fb_recall_scores.append(recall)\n",
    "    fb_precision_scores.append(precision)\n",
    "    fb_accuracy_scores.append(accuracy)"
   ]
  },
  {
   "cell_type": "code",
   "execution_count": 50,
   "metadata": {},
   "outputs": [
    {
     "data": {
      "text/html": [
       "<div>\n",
       "<style scoped>\n",
       "    .dataframe tbody tr th:only-of-type {\n",
       "        vertical-align: middle;\n",
       "    }\n",
       "\n",
       "    .dataframe tbody tr th {\n",
       "        vertical-align: top;\n",
       "    }\n",
       "\n",
       "    .dataframe thead th {\n",
       "        text-align: right;\n",
       "    }\n",
       "</style>\n",
       "<table border=\"1\" class=\"dataframe\">\n",
       "  <thead>\n",
       "    <tr style=\"text-align: right;\">\n",
       "      <th></th>\n",
       "      <th>Precision</th>\n",
       "      <th>Recall</th>\n",
       "      <th>F1 score</th>\n",
       "    </tr>\n",
       "  </thead>\n",
       "  <tbody>\n",
       "    <tr>\n",
       "      <th>FB_AdamicAdar(2)</th>\n",
       "      <td>0.070101</td>\n",
       "      <td>0.372190</td>\n",
       "      <td>0.117980</td>\n",
       "    </tr>\n",
       "    <tr>\n",
       "      <th>FB_CommonNeighbours(3)</th>\n",
       "      <td>0.020447</td>\n",
       "      <td>0.593623</td>\n",
       "      <td>0.039532</td>\n",
       "    </tr>\n",
       "    <tr>\n",
       "      <th>FB_CommonNeighbours(5)</th>\n",
       "      <td>0.032865</td>\n",
       "      <td>0.490457</td>\n",
       "      <td>0.061602</td>\n",
       "    </tr>\n",
       "  </tbody>\n",
       "</table>\n",
       "</div>"
      ],
      "text/plain": [
       "                        Precision    Recall  F1 score\n",
       "FB_AdamicAdar(2)         0.070101  0.372190  0.117980\n",
       "FB_CommonNeighbours(3)   0.020447  0.593623  0.039532\n",
       "FB_CommonNeighbours(5)   0.032865  0.490457  0.061602"
      ]
     },
     "execution_count": 50,
     "metadata": {},
     "output_type": "execute_result"
    }
   ],
   "source": [
    "fb_results = pd.DataFrame(index = fb_model_names)\n",
    "fb_results['Precision'] = fb_precision_scores\n",
    "fb_results['Recall'] = fb_recall_scores\n",
    "fb_results['F1 score'] = 2*(fb_results['Precision']*fb_results['Recall'])/(fb_results['Precision']+fb_results['Recall'])\n",
    "# fb_results['Accuracy'] = accuracy_scores\n",
    "fb_results"
   ]
  },
  {
   "cell_type": "code",
   "execution_count": null,
   "metadata": {},
   "outputs": [],
   "source": []
  }
 ],
 "metadata": {
  "kernelspec": {
   "display_name": "Python 3",
   "language": "python",
   "name": "python3"
  },
  "language_info": {
   "codemirror_mode": {
    "name": "ipython",
    "version": 3
   },
   "file_extension": ".py",
   "mimetype": "text/x-python",
   "name": "python",
   "nbconvert_exporter": "python",
   "pygments_lexer": "ipython3",
   "version": "3.7.0"
  },
  "toc": {
   "base_numbering": 1,
   "nav_menu": {},
   "number_sections": true,
   "sideBar": true,
   "skip_h1_title": false,
   "title_cell": "Table of Contents",
   "title_sidebar": "Contents",
   "toc_cell": false,
   "toc_position": {},
   "toc_section_display": true,
   "toc_window_display": false
  }
 },
 "nbformat": 4,
 "nbformat_minor": 2
}
