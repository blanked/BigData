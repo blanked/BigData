{
 "cells": [
  {
   "cell_type": "markdown",
   "metadata": {},
   "source": [
    "# Big Data Analytics Evaluation"
   ]
  },
  {
   "cell_type": "markdown",
   "metadata": {},
   "source": [
    "HJ: I'll tidy this up later to package into a function to call based on different files..."
   ]
  },
  {
   "cell_type": "code",
   "execution_count": 1,
   "metadata": {},
   "outputs": [],
   "source": [
    "import pandas as pd, numpy as np\n",
    "from scipy.sparse import coo_matrix\n",
    "import matplotlib.pyplot as plt, seaborn as sns\n",
    "from sklearn.metrics import confusion_matrix"
   ]
  },
  {
   "cell_type": "markdown",
   "metadata": {},
   "source": [
    "### Reading Data"
   ]
  },
  {
   "cell_type": "code",
   "execution_count": 147,
   "metadata": {},
   "outputs": [],
   "source": [
    "# pred = pd.read_csv(\"../result/first-CommonNeighbours(10).csv\", header=None)\n",
    "pred = pd.read_csv(\"../result/AdamicAdar(6).csv\", header=None)\n",
    "cm10 = pd.read_csv(\"../result/CommonNeighbours(10).csv\", header=None)\n",
    "cm7 = pd.read_csv(\"../result/CommonNeighbours(7).csv\", header=None)\n",
    "cm5 = pd.read_csv(\"../result/CommonNeighbours(5).csv\", header=None)\n",
    "aa6 = pd.read_csv(\"../result/AdamicAdar(6).csv\", header=None)\n",
    "aa3 = pd.read_csv(\"../result/AdamicAdar(3).csv\", header=None)\n",
    "aa05 = pd.read_csv(\"../result/AdamicAdar(0.5).csv\", header=None)\n",
    "actual = pd.read_csv(\"../data/second_nodate.csv\", header=None)\n",
    "full = pd.read_csv(\"../data/twitter.csv\")"
   ]
  },
  {
   "cell_type": "code",
   "execution_count": 174,
   "metadata": {},
   "outputs": [],
   "source": [
    "pred = aa3"
   ]
  },
  {
   "cell_type": "markdown",
   "metadata": {},
   "source": [
    "## Baseline statistics"
   ]
  },
  {
   "cell_type": "code",
   "execution_count": 175,
   "metadata": {
    "scrolled": true
   },
   "outputs": [
    {
     "name": "stdout",
     "output_type": "stream",
     "text": [
      "Number of actual edges formed: 25530\n",
      "Random probability chance of predicting edge: 3.7110927444952833e-06\n"
     ]
    }
   ],
   "source": [
    "# Random probability chance of predicting\n",
    "actual_no = len(actual)\n",
    "print(\"Number of actual edges formed: \" + str(actual_no))\n",
    "num_all_possibilities = len(full['Source'].unique())**2\n",
    "rand_prob = len(actual)/num_all_possibilities\n",
    "print(\"Random probability chance of predicting edge: \" + str(rand_prob))"
   ]
  },
  {
   "cell_type": "markdown",
   "metadata": {},
   "source": [
    "## CalculatingAccuracy"
   ]
  },
  {
   "cell_type": "markdown",
   "metadata": {},
   "source": [
    "### Cleaning and Formatting data\n",
    "To allow for merging. Prediction file has brackets from graphx/sparkling-graph, actual file doesn't"
   ]
  },
  {
   "cell_type": "code",
   "execution_count": 163,
   "metadata": {},
   "outputs": [],
   "source": [
    "# Cleaning actual\n",
    "for col in actual.columns:\n",
    "    actual[col] = actual[col].apply(str)\n",
    "    \n",
    "actual['edge'] = '(' + actual[0].astype(str) + ',' + actual[1].astype(str) + ')'"
   ]
  },
  {
   "cell_type": "code",
   "execution_count": 164,
   "metadata": {},
   "outputs": [],
   "source": [
    "# Cleaning prediction\n",
    "for col in pred.columns:\n",
    "    pred[col] = pred[col].apply(str)\n",
    "    \n",
    "pred['edge'] = pred[0].astype(str) + ',' + pred[1].astype(str)\n",
    "correct = pd.merge(actual, pred, on=['edge'])"
   ]
  },
  {
   "cell_type": "code",
   "execution_count": 165,
   "metadata": {},
   "outputs": [],
   "source": [
    "def clean_prediction(pred):\n",
    "    for col in pred.columns:\n",
    "        pred[col] = pred[col].apply(str)\n",
    "        pred['edge'] = pred[0].astype(str) + ',' + pred[1].astype(str)\n",
    "    \n",
    "    return\n",
    "\n",
    "def merge_prediction(pred):\n",
    "    correct = pd.merge(actual, pred, on=['edge'])"
   ]
  },
  {
   "cell_type": "code",
   "execution_count": 166,
   "metadata": {},
   "outputs": [
    {
     "name": "stdout",
     "output_type": "stream",
     "text": [
      "Total number of predicted edges: 93035\n",
      "Number of correct predicted edges: 145\n",
      "Total number of actual edges: 25530\n",
      "Recall: 0.005679592636114375\n"
     ]
    }
   ],
   "source": [
    "print(\"Total number of predicted edges: \" + str(len(pred)))\n",
    "print(\"Number of correct predicted edges: \" + str(len(correct)))\n",
    "print(\"Total number of actual edges: \" + str(len(actual)))\n",
    "print(\"Recall: \" + str(len(correct)/len(actual)))"
   ]
  },
  {
   "cell_type": "markdown",
   "metadata": {},
   "source": [
    "### Calculating values for confusion matrix"
   ]
  },
  {
   "cell_type": "code",
   "execution_count": 167,
   "metadata": {},
   "outputs": [],
   "source": [
    "P = len(actual)\n",
    "# Below are all positives. \n",
    "TP = len(correct)\n",
    "FN = P - TP  # misclassified positives\n",
    "\n",
    "N = num_all_possibilities - P\n",
    "# Below are all negatives\n",
    "FP = len(pred) - len(correct)\n",
    "TN = N - FP"
   ]
  },
  {
   "cell_type": "code",
   "execution_count": null,
   "metadata": {},
   "outputs": [],
   "source": [
    "def calculate_metrics(actual, pred, correct):\n",
    "    P = len(actual)\n",
    "    # Below are all positives. \n",
    "    TP = len(correct)\n",
    "    FN = P - TP  # misclassified positives\n",
    "\n",
    "    N = num_all_possibilities - P\n",
    "    # Below are all negatives\n",
    "    FP = len(pred) - len(correct)\n",
    "    TN = N - FP\n",
    "    return"
   ]
  },
  {
   "cell_type": "code",
   "execution_count": 168,
   "metadata": {},
   "outputs": [
    {
     "name": "stdout",
     "output_type": "stream",
     "text": [
      "SUM: 6879375364\n",
      "Number of all possibilities: 6879375364\n"
     ]
    }
   ],
   "source": [
    "print(\"SUM: \" + str(TP + FP + TN + FN))\n",
    "print(\"Number of all possibilities: \" + str(num_all_possibilities))"
   ]
  },
  {
   "cell_type": "markdown",
   "metadata": {},
   "source": [
    "## Metrics"
   ]
  },
  {
   "cell_type": "code",
   "execution_count": 169,
   "metadata": {},
   "outputs": [
    {
     "name": "stdout",
     "output_type": "stream",
     "text": [
      "Recall: 0.005679592636114375\n",
      "Precision: 0.0015585532326543774\n",
      "F1-score: 0.0012229578712098848\n"
     ]
    }
   ],
   "source": [
    "recall = TP/P\n",
    "precision = TP/(TP+FP)\n",
    "print(\"Recall: \" + str(recall))\n",
    "print(\"Precision: \" + str(precision))\n",
    "f1score = (precision*recall)/(precision+recall)\n",
    "print(\"F1-score: \" + str(f1score))"
   ]
  },
  {
   "cell_type": "code",
   "execution_count": 170,
   "metadata": {},
   "outputs": [],
   "source": [
    "array = [[TP, FP], [TN, FN]]\n",
    "conf_matrix = pd.DataFrame(array)\n",
    "conf_matrix_norm = conf_matrix.apply(lambda x: x/num_all_possibilities)"
   ]
  },
  {
   "cell_type": "code",
   "execution_count": 171,
   "metadata": {},
   "outputs": [
    {
     "data": {
      "text/html": [
       "<div>\n",
       "<style scoped>\n",
       "    .dataframe tbody tr th:only-of-type {\n",
       "        vertical-align: middle;\n",
       "    }\n",
       "\n",
       "    .dataframe tbody tr th {\n",
       "        vertical-align: top;\n",
       "    }\n",
       "\n",
       "    .dataframe thead th {\n",
       "        text-align: right;\n",
       "    }\n",
       "</style>\n",
       "<table border=\"1\" class=\"dataframe\">\n",
       "  <thead>\n",
       "    <tr style=\"text-align: right;\">\n",
       "      <th></th>\n",
       "      <th>0</th>\n",
       "      <th>1</th>\n",
       "    </tr>\n",
       "  </thead>\n",
       "  <tbody>\n",
       "    <tr>\n",
       "      <th>0</th>\n",
       "      <td>2.107750e-08</td>\n",
       "      <td>0.000014</td>\n",
       "    </tr>\n",
       "    <tr>\n",
       "      <th>1</th>\n",
       "      <td>9.999828e-01</td>\n",
       "      <td>0.000004</td>\n",
       "    </tr>\n",
       "  </tbody>\n",
       "</table>\n",
       "</div>"
      ],
      "text/plain": [
       "              0         1\n",
       "0  2.107750e-08  0.000014\n",
       "1  9.999828e-01  0.000004"
      ]
     },
     "execution_count": 171,
     "metadata": {},
     "output_type": "execute_result"
    }
   ],
   "source": [
    "conf_matrix_norm"
   ]
  },
  {
   "cell_type": "code",
   "execution_count": 172,
   "metadata": {},
   "outputs": [
    {
     "data": {
      "text/plain": [
       "<matplotlib.axes._subplots.AxesSubplot at 0x7f2cd811d710>"
      ]
     },
     "execution_count": 172,
     "metadata": {},
     "output_type": "execute_result"
    },
    {
     "data": {
      "image/png": "[encoded data removed]",
      "text/plain": [
       "<Figure size 432x288 with 2 Axes>"
      ]
     },
     "metadata": {
      "needs_background": "light"
     },
     "output_type": "display_data"
    }
   ],
   "source": [
    "sns.heatmap(conf_matrix, annot=True)"
   ]
  },
  {
   "cell_type": "code",
   "execution_count": 173,
   "metadata": {},
   "outputs": [
    {
     "data": {
      "text/plain": [
       "<matplotlib.image.AxesImage at 0x7f2cd7bbc048>"
      ]
     },
     "execution_count": 173,
     "metadata": {},
     "output_type": "execute_result"
    },
    {
     "data": {
      "image/png": "[encoded data removed]",
      "text/plain": [
       "<Figure size 288x288 with 1 Axes>"
      ]
     },
     "metadata": {
      "needs_background": "light"
     },
     "output_type": "display_data"
    }
   ],
   "source": [
    "plt.matshow(conf_matrix)"
   ]
  },
  {
   "cell_type": "code",
   "execution_count": null,
   "metadata": {},
   "outputs": [],
   "source": []
  }
 ],
 "metadata": {
  "kernelspec": {
   "display_name": "Python 3",
   "language": "python",
   "name": "python3"
  },
  "language_info": {
   "codemirror_mode": {
    "name": "ipython",
    "version": 3
   },
   "file_extension": ".py",
   "mimetype": "text/x-python",
   "name": "python",
   "nbconvert_exporter": "python",
   "pygments_lexer": "ipython3",
   "version": "3.7.0"
  }
 },
 "nbformat": 4,
 "nbformat_minor": 2
}
